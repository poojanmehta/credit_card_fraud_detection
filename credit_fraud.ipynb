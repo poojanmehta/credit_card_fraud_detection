{
  "nbformat": 4,
  "nbformat_minor": 0,
  "metadata": {
    "colab": {
      "name": "credit_fraud.ipynb",
      "provenance": [],
      "authorship_tag": "ABX9TyPQpiJJaNuR61PJuFPSoe+m",
      "include_colab_link": true
    },
    "kernelspec": {
      "name": "python3",
      "display_name": "Python 3"
    },
    "language_info": {
      "name": "python"
    }
  },
  "cells": [
    {
      "cell_type": "markdown",
      "metadata": {
        "id": "view-in-github",
        "colab_type": "text"
      },
      "source": [
        "<a href=\"https://colab.research.google.com/github/poojanmehta/credit_card_fraud_detection/blob/main/credit_fraud.ipynb\" target=\"_parent\"><img src=\"https://colab.research.google.com/assets/colab-badge.svg\" alt=\"Open In Colab\"/></a>"
      ]
    },
    {
      "cell_type": "code",
      "execution_count": 5,
      "metadata": {
        "id": "birnDTB0JUI6"
      },
      "outputs": [],
      "source": [
        "import pandas as pd\n",
        "import numpy as np"
      ]
    },
    {
      "cell_type": "code",
      "source": [
        "data = pd.read_csv('/content/card_transdata.csv')\n",
        "data2 = data.copy()"
      ],
      "metadata": {
        "id": "RCZJOYY0Jmrj"
      },
      "execution_count": 52,
      "outputs": []
    },
    {
      "cell_type": "code",
      "source": [
        "data.shape"
      ],
      "metadata": {
        "id": "Oz_rk9GaJ4_Z",
        "outputId": "3c335306-cc0d-4be2-decb-20992b76ac0d",
        "colab": {
          "base_uri": "https://localhost:8080/"
        }
      },
      "execution_count": 53,
      "outputs": [
        {
          "output_type": "execute_result",
          "data": {
            "text/plain": [
              "(742312, 8)"
            ]
          },
          "metadata": {},
          "execution_count": 53
        }
      ]
    },
    {
      "cell_type": "code",
      "source": [
        "data.isna().any()\n",
        "\n",
        "data[data.isna().any(axis=1)]\n",
        "data.dropna(inplace=True)\n",
        "data.reset_index(drop=True, inplace=True)"
      ],
      "metadata": {
        "id": "zZcaJ2EDqvIf"
      },
      "execution_count": 61,
      "outputs": []
    },
    {
      "cell_type": "code",
      "source": [
        "data.head(10)\n",
        "\n",
        "data['fraud'].value_counts()\n",
        "\n",
        "y = data['fraud']\n",
        "x = data.drop(['fraud'], axis=1)"
      ],
      "metadata": {
        "id": "bLv_BDlMdz6Z"
      },
      "execution_count": 62,
      "outputs": []
    },
    {
      "cell_type": "code",
      "source": [
        "from sklearn.model_selection import train_test_split\n",
        "\n",
        "x_train, x_test, y_train, y_test = train_test_split(x, y, test_size=0.8, random_state=42)"
      ],
      "metadata": {
        "colab": {
          "base_uri": "https://localhost:8080/"
        },
        "id": "5vy34vBMdbHb",
        "outputId": "6c1b552e-5fd3-4950-98f0-6f63cd579cf1"
      },
      "execution_count": 22,
      "outputs": [
        {
          "output_type": "execute_result",
          "data": {
            "text/plain": [
              "(148462,)"
            ]
          },
          "metadata": {},
          "execution_count": 22
        }
      ]
    },
    {
      "cell_type": "code",
      "source": [
        "from sklearn.ensemble import RandomForestClassifier\n",
        "from sklearn.model_selection import GridSearchCV\n",
        "\n",
        "grid_params = {\n",
        "    'bootstrap': [True],\n",
        "    'max_depth': [4,6,8],\n",
        "    'min_samples_split': [5,10,15],\n",
        "    'min_samples_leaf':[2,3,4],\n",
        "    'max_features': ['auto', 'log2'],\n",
        "    'n_estimators': [7]\n",
        "}\n",
        "\n",
        "\n",
        "classifier = RandomForestClassifier()\n",
        "grid_search = GridSearchCV(estimator=classifier, param_grid=grid_params,cv=3,n_jobs=-1)\n",
        "\n",
        "classifier.get_params().keys()\n",
        "\n",
        "grid_search.fit(x, y)\n",
        "\n"
      ],
      "metadata": {
        "colab": {
          "base_uri": "https://localhost:8080/"
        },
        "id": "oAy1T6nEdBZ_",
        "outputId": "c8fda6c5-ad99-4b35-8138-74343996b1e4"
      },
      "execution_count": 83,
      "outputs": [
        {
          "output_type": "execute_result",
          "data": {
            "text/plain": [
              "GridSearchCV(cv=3, estimator=RandomForestClassifier(), n_jobs=-1,\n",
              "             param_grid={'bootstrap': [True], 'max_depth': [4, 6, 8],\n",
              "                         'max_features': ['auto', 'log2'],\n",
              "                         'min_samples_leaf': [2, 3, 4],\n",
              "                         'min_samples_split': [5, 10, 15],\n",
              "                         'n_estimators': [7]})"
            ]
          },
          "metadata": {},
          "execution_count": 83
        }
      ]
    }
  ]
}