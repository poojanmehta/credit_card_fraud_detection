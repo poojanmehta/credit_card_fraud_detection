{
  "nbformat": 4,
  "nbformat_minor": 0,
  "metadata": {
    "colab": {
      "name": "credit_fraud.ipynb",
      "provenance": [],
      "collapsed_sections": [],
      "authorship_tag": "ABX9TyMpVMbr/cLfIEKGaEdutcxN",
      "include_colab_link": true
    },
    "kernelspec": {
      "name": "python3",
      "display_name": "Python 3"
    },
    "language_info": {
      "name": "python"
    }
  },
  "cells": [
    {
      "cell_type": "markdown",
      "metadata": {
        "id": "view-in-github",
        "colab_type": "text"
      },
      "source": [
        "<a href=\"https://colab.research.google.com/github/poojanmehta/credit_card_fraud_detection/blob/main/credit_fraud.ipynb\" target=\"_parent\"><img src=\"https://colab.research.google.com/assets/colab-badge.svg\" alt=\"Open In Colab\"/></a>"
      ]
    },
    {
      "cell_type": "code",
      "execution_count": 17,
      "metadata": {
        "id": "birnDTB0JUI6"
      },
      "outputs": [],
      "source": [
        "import pandas as pd\n",
        "import numpy as np"
      ]
    },
    {
      "cell_type": "code",
      "source": [
        "data = pd.read_csv('/content/card_transdata.csv')"
      ],
      "metadata": {
        "id": "RCZJOYY0Jmrj"
      },
      "execution_count": 21,
      "outputs": []
    },
    {
      "cell_type": "markdown",
      "source": [
        "### Data Preprocessings"
      ],
      "metadata": {
        "id": "MR6-DBPsCrII"
      }
    },
    {
      "cell_type": "code",
      "source": [
        "# Count of Rows and Features\n",
        "\n",
        "print('Rows : {}'.format(data.shape[0]))\n",
        "print('Features: {}'.format(data.shape[1]))"
      ],
      "metadata": {
        "id": "Oz_rk9GaJ4_Z",
        "outputId": "0be76e8c-22a5-44b9-c0c6-4d144ab965cf",
        "colab": {
          "base_uri": "https://localhost:8080/"
        }
      },
      "execution_count": 25,
      "outputs": [
        {
          "output_type": "stream",
          "name": "stdout",
          "text": [
            "Rows : 1000000\n",
            "Features: 8\n"
          ]
        }
      ]
    },
    {
      "cell_type": "code",
      "source": [
        "# Remove all the na values from dataset\n",
        "data.isna().any()\n",
        "\n",
        "# Gives us all the rows in whih any feature has nan value\n",
        "data[data.isna().any(axis=1)]\n",
        "\n",
        "# Drop all the rows with nan values\n",
        "data.dropna(inplace=True)\n",
        "data.reset_index(drop=True, inplace=True)\n",
        "\n",
        "data2 = data.copy()"
      ],
      "metadata": {
        "id": "zZcaJ2EDqvIf"
      },
      "execution_count": 26,
      "outputs": []
    },
    {
      "cell_type": "markdown",
      "source": [
        "### Modeling with Random Forest"
      ],
      "metadata": {
        "id": "J_X_x7thDWSN"
      }
    },
    {
      "cell_type": "code",
      "source": [
        "# Count of the target variables\n",
        "data['fraud'].value_counts()\n",
        "\n",
        "# Saperating target variable from dataset\n",
        "y = data['fraud'] \n",
        "x = data.drop(['fraud'], axis=1)"
      ],
      "metadata": {
        "id": "5JnMoCqdDN56"
      },
      "execution_count": 27,
      "outputs": []
    },
    {
      "cell_type": "code",
      "source": [
        "from sklearn.model_selection import train_test_split\n",
        "\n",
        "# Splitting the data in training and testing\n",
        "x_train, x_test, y_train, y_test = train_test_split(x, y, test_size=0.8, random_state=42)"
      ],
      "metadata": {
        "id": "5vy34vBMdbHb"
      },
      "execution_count": 28,
      "outputs": []
    },
    {
      "cell_type": "code",
      "source": [
        "from sklearn.ensemble import RandomForestClassifier\n",
        "from sklearn.model_selection import GridSearchCV\n",
        "from sklearn.metrics import accuracy_score\n",
        "\n",
        "# Prepare paramters for modeling\n",
        "grid_params = {\n",
        "    'bootstrap': [True],\n",
        "    'max_depth': [4,6,8],\n",
        "    'min_samples_split': np.linspace(6, 10, num=5, dtype=int),\n",
        "    'min_samples_leaf':np.linspace(2, 6, num=5, dtype=int),\n",
        "    'max_features': ['auto', 'log2'],\n",
        "    'n_estimators': [7]\n",
        "}\n",
        "\n",
        "# Fit the training data into model\n",
        "classifier = RandomForestClassifier()\n",
        "grid_search = GridSearchCV(estimator=classifier, param_grid=grid_params,cv=3,n_jobs=-1)\n",
        "grid_search.fit(x_train, y_train)\n",
        "\n",
        "print('Best Paramters for radnom forest classifier : ', grid_search.best_params_)\n",
        "\n",
        "# Predict the test data on newly trained model\n",
        "predict = grid_search.predict(x_test)\n",
        "\n",
        "# Accuracy score of the radmom forest\n",
        "score = accuracy_score(y_test, predict)\n",
        "print('Accuracy with random forest : ', score)"
      ],
      "metadata": {
        "colab": {
          "base_uri": "https://localhost:8080/"
        },
        "id": "oAy1T6nEdBZ_",
        "outputId": "e82b49c8-3496-4022-87c7-e6dd1a90e96b"
      },
      "execution_count": 41,
      "outputs": [
        {
          "output_type": "stream",
          "name": "stdout",
          "text": [
            "Best Paramters for radnom forest classifier :  {'bootstrap': True, 'max_depth': 8, 'max_features': 'log2', 'min_samples_leaf': 4, 'min_samples_split': 9, 'n_estimators': 7}\n",
            "Accuracy with random forest :  0.99986125\n"
          ]
        }
      ]
    },
    {
      "cell_type": "markdown",
      "source": [
        "### Modeling with SVM"
      ],
      "metadata": {
        "id": "Xv8LXyQmICj8"
      }
    },
    {
      "cell_type": "code",
      "source": [
        "import seaborn as sns\n",
        "from sklearn.preprocessing import MinMaxScaler\n",
        "\n",
        "# Converting necessary fields in range of 0 to 1\n",
        "scalar = MinMaxScaler()\n",
        "min_max_cols = scalar.fit_transform(data2[['distance_from_home', 'distance_from_last_transaction', 'ratio_to_median_purchase_price']])\n",
        "\n",
        "# Adding converted fields to dataframe\n",
        "min_max_df = pd.DataFrame(min_max_cols, columns=['distance_from_home', 'distance_from_last_transaction', 'ratio_to_median_purchase_price'])\n",
        "data2.drop(['distance_from_home', 'distance_from_last_transaction', 'ratio_to_median_purchase_price'], axis=1, inplace=True)\n",
        "data2 = pd.concat([data2, min_max_df], axis=1)"
      ],
      "metadata": {
        "id": "72TB2u4YjrgM"
      },
      "execution_count": null,
      "outputs": []
    },
    {
      "cell_type": "code",
      "source": [
        "y2 = data['fraud']\n",
        "x2 = data.drop(['fraud'], axis=1)\n",
        "\n",
        "# Splitting the data2\n",
        "x2_train, x2_test, y2_train, y2_test = train_test_split(x2, y2, test_size=0.8, random_state=42)"
      ],
      "metadata": {
        "id": "bFyHbsfmBh06"
      },
      "execution_count": 42,
      "outputs": []
    },
    {
      "cell_type": "code",
      "source": [
        "from sklearn.svm import SVC\n",
        "svm_params = {\n",
        "    'C': [0.1, 2, 5],\n",
        "    'gamma': [0.01, 0.05, 0.1],\n",
        "    'kernel': ['rbf']\n",
        "}\n",
        "\n",
        "svc_scalar = SVC()\n",
        "\n",
        "grid_svc = GridSearchCV(estimator=svc_scalar, param_grid=svm_params, cv=3, n_jobs=-1)\n",
        "\n",
        "grid_svc.fit(x2_train, y2_train)\n",
        "\n",
        "\n",
        "\n",
        "print('Best Paramters for support vector machine : ', grid_svc.best_params_)\n",
        "\n",
        "# Prediction for the test data\n",
        "svc_predict = grid_svc.predict(x2_test)\n",
        "\n",
        "# Accuracy score for the svm\n",
        "svc_score = accuracy_score(svc_predict, y2_test)\n",
        "print('Accuracy with SVM : ', svc_score)"
      ],
      "metadata": {
        "id": "eJ1zKhfzf4MR"
      },
      "execution_count": null,
      "outputs": []
    }
  ]
}