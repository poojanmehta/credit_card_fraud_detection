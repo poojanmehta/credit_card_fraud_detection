{
  "nbformat": 4,
  "nbformat_minor": 0,
  "metadata": {
    "colab": {
      "name": "credit_fraud.ipynb",
      "provenance": [],
      "authorship_tag": "ABX9TyNVWMJNM6WK8iOYAhy0xcJL"
    },
    "kernelspec": {
      "name": "python3",
      "display_name": "Python 3"
    },
    "language_info": {
      "name": "python"
    }
  },
  "cells": [
    {
      "cell_type": "code",
      "execution_count": 1,
      "metadata": {
        "id": "birnDTB0JUI6"
      },
      "outputs": [],
      "source": [
        "import pandas as pd\n",
        "import numpy as np"
      ]
    },
    {
      "cell_type": "code",
      "source": [
        "data = pd.read_csv('/content/card_transdata.csv')\n",
        "data2 = data.copy()"
      ],
      "metadata": {
        "id": "RCZJOYY0Jmrj"
      },
      "execution_count": 2,
      "outputs": []
    },
    {
      "cell_type": "code",
      "source": [
        "data.shape"
      ],
      "metadata": {
        "id": "Oz_rk9GaJ4_Z"
      },
      "execution_count": null,
      "outputs": []
    },
    {
      "cell_type": "code",
      "source": [
        "data.isna().any()\n",
        "\n",
        "data[data.isna().any(axis=1)]\n",
        "data.dropna(inplace=True)\n",
        "data.reset_index(drop=True, inplace=True)"
      ],
      "metadata": {
        "id": "zZcaJ2EDqvIf"
      },
      "execution_count": 4,
      "outputs": []
    },
    {
      "cell_type": "code",
      "source": [
        "data.head(10)\n",
        "\n",
        "data['fraud'].value_counts()\n",
        "\n",
        "y = data['fraud']\n",
        "x = data.drop(['fraud'], axis=1)"
      ],
      "metadata": {
        "id": "bLv_BDlMdz6Z"
      },
      "execution_count": 5,
      "outputs": []
    },
    {
      "cell_type": "code",
      "source": [
        "from sklearn.model_selection import train_test_split\n",
        "\n",
        "x_train, x_test, y_train, y_test = train_test_split(x, y, test_size=0.8, random_state=42)"
      ],
      "metadata": {
        "id": "5vy34vBMdbHb"
      },
      "execution_count": 8,
      "outputs": []
    },
    {
      "cell_type": "code",
      "source": [
        "from sklearn.ensemble import RandomForestClassifier\n",
        "from sklearn.model_selection import GridSearchCV\n",
        "from sklearn.metrics import accuracy_score\n",
        "\n",
        "grid_params = {\n",
        "    'bootstrap': [True],\n",
        "    'max_depth': [4,6,8],\n",
        "    'min_samples_split': [5,10,15],\n",
        "    'min_samples_leaf':[2,3,4],\n",
        "    'max_features': ['auto', 'log2'],\n",
        "    'n_estimators': [7]\n",
        "}\n",
        "\n",
        "\n",
        "classifier = RandomForestClassifier()\n",
        "grid_search = GridSearchCV(estimator=classifier, param_grid=grid_params,cv=3,n_jobs=-1)\n",
        "\n",
        "classifier.get_params().keys()\n",
        "\n",
        "grid_search.fit(x_train, y_train)\n",
        "\n",
        "grid_search.best_params_\n",
        "\n",
        "predict = grid_search.predict(x_test)\n",
        "\n",
        "score = accuracy_score(y_test, predict)\n",
        "\n",
        "print('Accuracy with random forest is: ', score)\n"
      ],
      "metadata": {
        "colab": {
          "base_uri": "https://localhost:8080/"
        },
        "id": "oAy1T6nEdBZ_",
        "outputId": "e7808bdb-6f10-49bb-bca1-069af158fa6e"
      },
      "execution_count": 76,
      "outputs": [
        {
          "output_type": "stream",
          "name": "stdout",
          "text": [
            "Accuracy with random forest is:  0.9999747400753756\n"
          ]
        }
      ]
    },
    {
      "cell_type": "code",
      "source": [
        "data2.dropna(inplace=True)\n",
        "data2.reset_index(drop=True, inplace=True)"
      ],
      "metadata": {
        "id": "XuyBDG7xpm1G"
      },
      "execution_count": 27,
      "outputs": []
    },
    {
      "cell_type": "code",
      "source": [
        "import seaborn as sns\n",
        "from sklearn.preprocessing import MinMaxScaler\n",
        "\n",
        "sns.displot(data=data2, x='distance_from_home')\n",
        "\n",
        "# Converting necessary fields in range of 0 to 1\n",
        "scalar = MinMaxScaler()\n",
        "min_max_cols = scalar.fit_transform(data2[['distance_from_home', 'distance_from_last_transaction', 'ratio_to_median_purchase_price']])\n",
        "\n",
        "# Adding scalled fields to dataframe\n",
        "min_max_df = pd.DataFrame(min_max_cols, columns=['distance_from_home', 'distance_from_last_transaction', 'ratio_to_median_purchase_price'])\n",
        "data2.drop(['distance_from_home', 'distance_from_last_transaction', 'ratio_to_median_purchase_price'], axis=1, inplace=True)\n",
        "data2 = pd.concat([data2, min_max_df], axis=1)"
      ],
      "metadata": {
        "id": "72TB2u4YjrgM"
      },
      "execution_count": null,
      "outputs": []
    },
    {
      "cell_type": "code",
      "source": [
        ""
      ],
      "metadata": {
        "id": "eJ1zKhfzf4MR"
      },
      "execution_count": null,
      "outputs": []
    }
  ]
}