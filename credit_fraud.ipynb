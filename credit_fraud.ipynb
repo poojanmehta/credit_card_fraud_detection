{
  "nbformat": 4,
  "nbformat_minor": 0,
  "metadata": {
    "colab": {
      "name": "credit_fraud.ipynb",
      "provenance": [],
      "collapsed_sections": [],
      "authorship_tag": "ABX9TyMxGblK0WMhyE/DFY/40ZKw"
    },
    "kernelspec": {
      "name": "python3",
      "display_name": "Python 3"
    },
    "language_info": {
      "name": "python"
    }
  },
  "cells": [
    {
      "cell_type": "code",
      "execution_count": 17,
      "metadata": {
        "id": "birnDTB0JUI6"
      },
      "outputs": [],
      "source": [
        "import pandas as pd\n",
        "import numpy as np"
      ]
    },
    {
      "cell_type": "code",
      "source": [
        "data = pd.read_csv('/content/card_transdata.csv')"
      ],
      "metadata": {
        "id": "RCZJOYY0Jmrj"
      },
      "execution_count": 54,
      "outputs": []
    },
    {
      "cell_type": "markdown",
      "source": [
        "### Data Preprocessings"
      ],
      "metadata": {
        "id": "MR6-DBPsCrII"
      }
    },
    {
      "cell_type": "code",
      "source": [
        "# Count of Rows and Features\n",
        "\n",
        "print('Rows : {}'.format(data.shape[0]))\n",
        "print('Features: {}'.format(data.shape[1]))"
      ],
      "metadata": {
        "id": "Oz_rk9GaJ4_Z",
        "outputId": "0be76e8c-22a5-44b9-c0c6-4d144ab965cf",
        "colab": {
          "base_uri": "https://localhost:8080/"
        }
      },
      "execution_count": 25,
      "outputs": [
        {
          "output_type": "stream",
          "name": "stdout",
          "text": [
            "Rows : 1000000\n",
            "Features: 8\n"
          ]
        }
      ]
    },
    {
      "cell_type": "code",
      "source": [
        "# Remove all the na values from dataset\n",
        "data.isna().any()\n",
        "\n",
        "# Gives us all the rows in whih any feature has nan value\n",
        "data[data.isna().any(axis=1)]\n",
        "\n",
        "# Drop all the rows with nan values\n",
        "data.dropna(inplace=True)\n",
        "data.reset_index(drop=True, inplace=True)\n",
        "\n",
        "data2 = data.copy()"
      ],
      "metadata": {
        "id": "zZcaJ2EDqvIf"
      },
      "execution_count": 26,
      "outputs": []
    },
    {
      "cell_type": "markdown",
      "source": [
        "### Modeling with Random Forest"
      ],
      "metadata": {
        "id": "J_X_x7thDWSN"
      }
    },
    {
      "cell_type": "code",
      "source": [
        "# Count of the target variables\n",
        "data['fraud'].value_counts()\n",
        "\n",
        "# Saperating target variable from dataset\n",
        "y = data['fraud'] \n",
        "x = data.drop(['fraud'], axis=1)"
      ],
      "metadata": {
        "id": "5JnMoCqdDN56"
      },
      "execution_count": 27,
      "outputs": []
    },
    {
      "cell_type": "code",
      "source": [
        "from sklearn.model_selection import train_test_split\n",
        "\n",
        "# Splitting the data in training and testing\n",
        "x_train, x_test, y_train, y_test = train_test_split(x, y, test_size=0.8, random_state=42)"
      ],
      "metadata": {
        "id": "5vy34vBMdbHb"
      },
      "execution_count": 28,
      "outputs": []
    },
    {
      "cell_type": "code",
      "source": [
        "from sklearn.ensemble import RandomForestClassifier\n",
        "from sklearn.model_selection import GridSearchCV\n",
        "from sklearn.metrics import accuracy_score\n",
        "\n",
        "# Prepare paramters for modeling\n",
        "grid_params = {\n",
        "    'bootstrap': [True],\n",
        "    'max_depth': [4,6,8],\n",
        "    'min_samples_split': np.linspace(6, 10, num=5, dtype=int),\n",
        "    'min_samples_leaf':np.linspace(2, 6, num=5, dtype=int),\n",
        "    'max_features': ['auto', 'log2'],\n",
        "    'n_estimators': [7]\n",
        "}\n",
        "\n",
        "# Fit the training data into model\n",
        "classifier = RandomForestClassifier()\n",
        "grid_search = GridSearchCV(estimator=classifier, param_grid=grid_params,cv=3,n_jobs=-1)\n",
        "grid_search.fit(x_train, y_train)\n",
        "\n",
        "print('Best Paramters for radnom forest classifier : ', grid_search.best_params_)\n",
        "\n",
        "# Predict the test data on newly trained model\n",
        "predict = grid_search.predict(x_test)\n",
        "\n",
        "# Accuracy score of the radmom forest\n",
        "score = accuracy_score(y_test, predict)\n",
        "print('Accuracy with random forest : ', score)"
      ],
      "metadata": {
        "colab": {
          "base_uri": "https://localhost:8080/"
        },
        "id": "oAy1T6nEdBZ_",
        "outputId": "e82b49c8-3496-4022-87c7-e6dd1a90e96b"
      },
      "execution_count": 41,
      "outputs": [
        {
          "output_type": "stream",
          "name": "stdout",
          "text": [
            "Best Paramters for radnom forest classifier :  {'bootstrap': True, 'max_depth': 8, 'max_features': 'log2', 'min_samples_leaf': 4, 'min_samples_split': 9, 'n_estimators': 7}\n",
            "Accuracy with random forest :  0.99986125\n"
          ]
        }
      ]
    }
  ]
}